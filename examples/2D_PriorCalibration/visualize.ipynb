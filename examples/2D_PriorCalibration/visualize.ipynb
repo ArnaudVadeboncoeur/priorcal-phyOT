{
 "cells": [
  {
   "cell_type": "code",
   "execution_count": null,
   "metadata": {},
   "outputs": [],
   "source": [
    "import os\n",
    "os.environ['CUDA_VISIBLE_DEVICES']='-1'\n",
    "import time\n",
    "import jax \n",
    "import jax.numpy as jnp\n",
    "import pickle\n",
    "import matplotlib.pyplot as plt\n",
    "from config import *\n",
    "from phyOT.utils import *\n",
    "from phyOT.utils import *"
   ]
  },
  {
   "cell_type": "code",
   "execution_count": null,
   "metadata": {},
   "outputs": [],
   "source": [
    "def flush(u):\n",
    "    return jnp.where(jnp.abs(u)<1e-8, 0, u)"
   ]
  },
  {
   "cell_type": "code",
   "execution_count": null,
   "metadata": {},
   "outputs": [],
   "source": [
    "file = 'data/data.pkl'\n",
    "\n",
    "with open(file, 'rb') as f:\n",
    "    data = pickle.load(f)\n",
    "\n",
    "ell = 5\n",
    "idx = [2, 3, 4, 5]\n",
    "for ix in idx:\n",
    "    plt.contourf(data['grid'][0], data['grid'][1], flush(data['dataUs'][ix]), 50)\n",
    "    plt.colorbar()\n",
    "    plt.scatter(data['obs_locs'][:, 0], data['obs_locs'][:, 1], c='k', s=5)\n",
    "    plt.xlabel(r'$x_{(1)}$')\n",
    "    plt.ylabel(r'$x_{(2)}$')\n",
    "    plt.savefig(f'data/plots/sln_obs_{ix}.png')\n",
    "    plt.show()\n",
    "\n",
    "    plt.contourf(data['grid'][0], data['grid'][1], flush(data['dataZs'][ix]), 50)\n",
    "    plt.colorbar()\n",
    "    plt.xlabel(r'$x_{(1)}$')\n",
    "    plt.ylabel(r'$x_{(2)}$')\n",
    "    plt.savefig(f'data/plots/z_field_{ix}.png')\n",
    "    plt.show()\n",
    "\n",
    "    a_field = data['dataAs'][ix]\n",
    "    dx = 1. / (solver.grid[0].shape[0] - 1)\n",
    "    a_L2 = jnp.sqrt( jnp.sum( a_field**2. * dx**2. ) )\n",
    "    print(f'a_L2: {a_L2}')\n",
    "    a_norm = a_L2\n",
    "    a_bar_field = a_field / a_norm\n",
    "    kappa_1, kappa_2 = 1., 2.\n",
    "    z_field = jnp.tanh((a_bar_field) * ell ) * 0.5 * (kappa_2 - kappa_1) + kappa_1 + 0.5 * (kappa_2 - kappa_1)\n",
    "    plt.contourf(data['grid'][0], data['grid'][1], flush(z_field), 50)\n",
    "    plt.colorbar()\n",
    "    plt.xlabel(r'$x_{(1)}$')\n",
    "    plt.ylabel(r'$x_{(2)}$')\n",
    "    plt.savefig(f'data/plots/z_field_smooth_{ix}.png')\n",
    "    plt.show()\n"
   ]
  },
  {
   "cell_type": "code",
   "execution_count": null,
   "metadata": {},
   "outputs": [],
   "source": [
    "with open('data/model.pkl', 'rb') as f:\n",
    "    model_smooth = pickle.load(f)\n",
    "\n",
    "loss = model_smooth['loss']\n",
    "plt.semilogy(loss)\n",
    "plt.grid()\n",
    "plt.xlabel('Iterations')\n",
    "plt.ylabel('Loss')\n",
    "plt.savefig('data/plots/plot_loss.pdf')\n",
    "plt.show()\n",
    "lw = 1\n",
    "lw_big = 2\n",
    "w_avg = 100\n",
    "\n",
    "aux = model_smooth['aux']\n",
    "lambda_vals = jnp.exp( aux['lambdas'] )\n",
    "kappa_p = jnp.exp(aux['kappas'][:,0])\n",
    "kappa_m = jnp.exp(aux['kappas'][:,1])\n",
    "\n",
    "\n",
    "plt.plot(lambda_vals, linewidth=lw_big, label=r'$\\lambda$')\n",
    "plt.plot(lambda_vals**0. * 5., '--', c='k', label=r'true $\\lambda$')\n",
    "\n",
    "\n",
    "plt.plot(kappa_m, linewidth=lw_big, label=r'$\\kappa^+$')\n",
    "plt.plot(kappa_p**0. * 2., ':', c='k', label=r'true $\\kappa^+$')\n",
    "plt.plot(kappa_p, linewidth=lw_big, label=r'$\\kappa^-$')\n",
    "plt.plot(kappa_m**0.* 1., '-.', c='k', label=r'true $\\kappa^{-}$')\n",
    "plt.grid()\n",
    "plt.xlabel('Iterations')\n",
    "plt.ylabel(r'$\\lambda, \\kappa^+, \\kappa^-$')\n",
    "plt.legend(loc='best')\n",
    "\n",
    "plt.savefig('data/plots/plot_convergence.pdf')\n",
    "plt.show()\n",
    "\n",
    "print('last kappa^- = ', kappa_m[-1])\n",
    "print('last kappa^+ = ', kappa_p[-1])\n",
    "print('last lambda = ', lambda_vals[-1])\n",
    "\n",
    "print('relative error kp', 100*jnp.abs(2-kappa_m[-1])/2 )\n",
    "print('relative error km',  100*jnp.abs(1-kappa_p[-1])/1 )\n",
    "print('relative error lambda',  100*jnp.abs(5-lambda_vals[-1])/5 )"
   ]
  },
  {
   "cell_type": "code",
   "execution_count": null,
   "metadata": {},
   "outputs": [],
   "source": []
  }
 ],
 "metadata": {
  "kernelspec": {
   "display_name": "jphy",
   "language": "python",
   "name": "python3"
  },
  "language_info": {
   "codemirror_mode": {
    "name": "ipython",
    "version": 3
   },
   "file_extension": ".py",
   "mimetype": "text/x-python",
   "name": "python",
   "nbconvert_exporter": "python",
   "pygments_lexer": "ipython3",
   "version": "3.9.18"
  }
 },
 "nbformat": 4,
 "nbformat_minor": 2
}
