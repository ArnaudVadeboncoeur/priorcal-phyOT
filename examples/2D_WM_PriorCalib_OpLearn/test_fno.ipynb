{
 "cells": [
  {
   "cell_type": "code",
   "execution_count": null,
   "metadata": {},
   "outputs": [],
   "source": [
    "import os\n",
    "os.environ['CUDA_VISIBLE_DEVICES']='-1'\n",
    "import jax \n",
    "import pickle\n",
    "import matplotlib.pyplot as plt\n",
    "\n",
    "from phyOT.utils import *"
   ]
  },
  {
   "cell_type": "code",
   "execution_count": null,
   "metadata": {},
   "outputs": [],
   "source": [
    "from config import *\n",
    "\n",
    "file = 'data/model.pkl'\n",
    "with open(file, 'rb') as f:\n",
    "    model1 = pickle.load(f)\n",
    "    \n",
    "params_fno = model1['params_fno']\n",
    "cfg = model1['cfg']\n",
    "fno = FNO(cfg.FNO, FNO_utils2D)\n",
    "import types\n",
    "fno.forward = types.MethodType(forward, fno)\n",
    "\n",
    "file_data = 'data/data.pkl'\n",
    "\n",
    "with open(file_data, 'rb') as f:\n",
    "    data = pickle.load(f)\n",
    "\n",
    "Us    = jax.vmap(fno.forward, in_axes=(None, 0))(params_fno,  data['dataZs'])\n",
    "solver.device='cpu'\n",
    "UsSolver = jax.vmap(solver.solve, in_axes=(None, 0, None))(f_field*0., data['dataZs'], f_field)\n",
    "\n",
    "Us = Us.reshape(data['dataZs'].shape[0], -1)\n",
    "UsSolver = UsSolver.reshape(data['dataZs'].shape[0], -1)\n",
    "\n",
    "relative_error = jnp.mean( jnp.linalg.norm(Us - UsSolver, axis=-1) / jnp.linalg.norm(UsSolver, axis=-1))\n",
    "print('relative_error:', relative_error * 100.)\n",
    "\n",
    "grid = data['grid']\n",
    "loss = model1['aux']['aux'][:,2]\n",
    "plt.semilogy(loss)\n",
    "plt.grid()\n",
    "plt.show()\n",
    "\n",
    "for i in [2]:\n",
    "    plt.contourf(grid[0], grid[1], UsSolver[i].reshape(grid[0].shape), 50)\n",
    "    plt.colorbar()\n",
    "    plt.show()\n",
    "    \n",
    "    plt.contourf(grid[0], grid[1], Us[i].reshape(grid[0].shape), 50)\n",
    "    plt.colorbar()\n",
    "    plt.show()"
   ]
  }
 ],
 "metadata": {
  "kernelspec": {
   "display_name": "jphy",
   "language": "python",
   "name": "python3"
  },
  "language_info": {
   "codemirror_mode": {
    "name": "ipython",
    "version": 3
   },
   "file_extension": ".py",
   "mimetype": "text/x-python",
   "name": "python",
   "nbconvert_exporter": "python",
   "pygments_lexer": "ipython3",
   "version": "3.9.18"
  }
 },
 "nbformat": 4,
 "nbformat_minor": 2
}
