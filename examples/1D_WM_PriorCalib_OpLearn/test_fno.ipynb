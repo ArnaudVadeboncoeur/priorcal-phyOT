{
 "cells": [
  {
   "cell_type": "code",
   "execution_count": null,
   "metadata": {},
   "outputs": [],
   "source": [
    "import os\n",
    "os.environ['CUDA_VISIBLE_DEVICES']='-1'\n",
    "import jax \n",
    "import pickle\n",
    "import matplotlib.pyplot as plt\n",
    "\n",
    "from phyEBM.utils import *"
   ]
  },
  {
   "cell_type": "code",
   "execution_count": null,
   "metadata": {},
   "outputs": [],
   "source": [
    "from config import *\n",
    "\n",
    "file = 'data/model.pkl'\n",
    "with open(file, 'rb') as f:\n",
    "    model1 = pickle.load(f)\n",
    "    \n",
    "params_fno = model1['params_fno']\n",
    "\n",
    "file_data = 'data/data1_sharp.pkl'\n",
    "\n",
    "with open(file_data, 'rb') as f:\n",
    "    data = pickle.load(f)\n",
    "\n",
    "Us    = jax.vmap(fno.forward, in_axes=(None, 0))(params_fno,  data['dataZs'])\n",
    "solver.device='cpu'\n",
    "UsSolver, _, _ = jax.vmap(solver.solve, in_axes=(None, 0, None))(f_field*0., data['dataZs'], f_field)\n",
    "\n",
    "Us = Us.reshape(data['dataZs'].shape[0], -1)\n",
    "UsSolver = UsSolver.reshape(data['dataZs'].shape[0], -1)\n",
    "\n",
    "relative_error = jnp.mean( jnp.linalg.norm(Us - UsSolver, axis=-1) / jnp.linalg.norm(UsSolver, axis=-1))\n",
    "print('relative_error:', relative_error * 100.)\n"
   ]
  },
  {
   "cell_type": "code",
   "execution_count": null,
   "metadata": {},
   "outputs": [],
   "source": []
  }
 ],
 "metadata": {
  "kernelspec": {
   "display_name": "jphy",
   "language": "python",
   "name": "python3"
  },
  "language_info": {
   "codemirror_mode": {
    "name": "ipython",
    "version": 3
   },
   "file_extension": ".py",
   "mimetype": "text/x-python",
   "name": "python",
   "nbconvert_exporter": "python",
   "pygments_lexer": "ipython3",
   "version": "3.9.18"
  }
 },
 "nbformat": 4,
 "nbformat_minor": 2
}
